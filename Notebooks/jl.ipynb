{
  "nbformat": 4,
  "nbformat_minor": 0,
  "metadata": {
    "colab": {
      "name": "jl.ipynb",
      "provenance": [],
      "collapsed_sections": []
    },
    "kernelspec": {
      "name": "julia-1.3",
      "display_name": "Julia 1.3"
    },
    "accelerator": "GPU"
  },
  "cells": [
    {
      "cell_type": "code",
      "metadata": {
        "id": "oMSuTc3pDlHv",
        "colab_type": "code",
        "colab": {}
      },
      "source": [
        "!wget https://developer.nvidia.com/compute/cuda/9.0/Prod/local_installers/cuda-repo-ubuntu1604-9-0-local_9.0.176-1_amd64-deb\n",
        "!dpkg -i cuda-repo-ubuntu1604-9-0-local_9.0.176-1_amd64-deb\n",
        "!apt-key add /var/cuda-repo-9-0-local/7fa2af80.pub\n",
        "!apt update -q\n",
        "!apt install cuda gcc-6 g++-6 -y -q\n",
        "!ln -s /usr/bin/gcc-6 /usr/local/cuda/bin/gcc\n",
        "!ln -s /usr/bin/g++-6 /usr/local/cuda/bin/g++\n",
        "!curl -sSL \"https://julialang-s3.julialang.org/bin/linux/x64/1.3/julia-1.3.1-linux-x86_64.tar.gz\" -o julia.tar.gz\n",
        "!tar -xzf julia.tar.gz -C /usr --strip-components 1\n",
        "!rm -rf julia.tar.gz*\n",
        "!julia -e 'using Pkg; pkg\"add IJulia; precompile\"'\n",
        "!nvidia-smi"
      ],
      "execution_count": 0,
      "outputs": []
    },
    {
      "cell_type": "code",
      "metadata": {
        "id": "35quk0C3vEmY",
        "colab_type": "code",
        "colab": {}
      },
      "source": [
        "!git clone https://github.com/KonstantinosChatziantoniou/JuliaCUDA_GridKNN.git\n",
        "!cp /content/JuliaCUDA_GridKNN/Julia/Code/* ./"
      ],
      "execution_count": 0,
      "outputs": []
    },
    {
      "cell_type": "code",
      "metadata": {
        "id": "2m42VEpE1Rwm",
        "colab_type": "code",
        "colab": {}
      },
      "source": [
        "## RESTART KERNEL "
      ],
      "execution_count": 0,
      "outputs": []
    },
    {
      "cell_type": "code",
      "metadata": {
        "id": "Jv-6HHxflxOT",
        "colab_type": "code",
        "colab": {}
      },
      "source": [
        "using Pkg\n",
        "Pkg.add(\"CUDAdrv\")\n",
        "Pkg.add(\"CUDAnative\")\n",
        "Pkg.add(\"CuArrays\")\n",
        "Pkg.add(\"StaticArrays\")\n",
        "Pkg.add(\"BenchmarkTools\")"
      ],
      "execution_count": 0,
      "outputs": []
    },
    {
      "cell_type": "code",
      "metadata": {
        "id": "H1ntjXxvoBLN",
        "colab_type": "code",
        "colab": {}
      },
      "source": [
        "using CuArrays, CUDAnative, CUDAdrv"
      ],
      "execution_count": 0,
      "outputs": []
    },
    {
      "cell_type": "code",
      "metadata": {
        "id": "EPiXUT5xxtE4",
        "colab_type": "code",
        "colab": {}
      },
      "source": [
        "using Statistics, BenchmarkTools\n",
        "include(\"preprocess.jl\")\n",
        "\n",
        "function RunKernel(len, blocks)\n",
        "    numOfPoints = len\n",
        "    numOfQueries = len\n",
        "    dimensions = 3\n",
        "    numOfGrids = blocks #PerDimension\n",
        "\n",
        "    Points = rand(Float32, numOfPoints ,dimensions)\n",
        "    Queries = rand(Float32, numOfQueries, dimensions)\n",
        "\n",
        "    BlockOfPoint = AssignPointsToBlock(Points, numOfGrids, dimensions)\n",
        "    BlockOfQuery = AssignPointsToBlock(Queries, numOfGrids, dimensions)\n",
        "\n",
        "    PointsPerBlock, IntegralPointsPerBlock = CountPointsPerBlock(Points, numOfGrids, dimensions)\n",
        "    QueriesPerBlock, IntegralQueriesPerBlock = CountPointsPerBlock(Queries, numOfGrids, dimensions)\n",
        "\n",
        "    OrderedPoints = ReorderPointsByBlock(Points, BlockOfPoint)\n",
        "    OrderedQueries = ReorderPointsByBlock(Queries, BlockOfQuery)\n",
        "    println(\"RUN: \",len)\n",
        "    bnc = @benchmark begin gpu_idxs, gpu_dists = cuda_knn($OrderedPoints, $OrderedQueries,$PointsPerBlock,\n",
        "        $QueriesPerBlock, $IntegralPointsPerBlock, $IntegralQueriesPerBlock,$numOfPoints,\n",
        "        $numOfQueries, $numOfGrids, $dimensions) \n",
        "      println(gpu_idxs[1:5])\n",
        "      println(gpu_dists[1:5])\n",
        "    end seconds=60 samples=4        ## Change here for benchmark limit\n",
        "    return bnc\n",
        "\n",
        "end"
      ],
      "execution_count": 0,
      "outputs": []
    },
    {
      "cell_type": "code",
      "metadata": {
        "id": "Zkm77RM5z7kw",
        "colab_type": "code",
        "colab": {}
      },
      "source": [
        "# Run once to initialize becnhamrk holder\n",
        "#benchLengths = [1<<i for i = 18:24]\n",
        "#benchBlocks = [1<<i for i = 2:8]\n",
        "suite = BenchmarkGroup()\n",
        "benchLengths = 21:24; println(benchLengths[:])\n",
        "benchBlocks = 3:5;    println(benchBlocks[:])\n",
        "kernel_files = [\"multi_kernel\", \"multi_kernel_check\", \n",
        "                \"single_kernel\", \"single_kernel_check\"]\n",
        "for k in kernel_files\n",
        "  suite[current_kernel] = BenchmarkGroup()\n",
        "end"
      ],
      "execution_count": 0,
      "outputs": []
    },
    {
      "cell_type": "code",
      "metadata": {
        "id": "GDqF_CAj-Ag3",
        "colab_type": "code",
        "colab": {}
      },
      "source": [
        "#RUN to print saved benchmarks\n",
        "suite"
      ],
      "execution_count": 0,
      "outputs": []
    },
    {
      "cell_type": "code",
      "metadata": {
        "id": "BkPWrVNZx-bj",
        "colab_type": "code",
        "colab": {}
      },
      "source": [
        "current_kernel = kernel_files[1]          ## <- Change the number for different implementation\n",
        "include(string(current_kernel, \".jl\"))\n",
        "l = 24                                    ## <- Change 'l' for different problem size\n",
        "for b = 4:6                               ## <- Change 'b' for different block size range\n",
        "  suite[current_kernel][l,b] = RunKernel(1<<l, 1<<b)\n",
        "end"
      ],
      "execution_count": 0,
      "outputs": []
    },
    {
      "cell_type": "code",
      "metadata": {
        "id": "jWpN-MaouRty",
        "colab_type": "code",
        "colab": {}
      },
      "source": [
        "## Run to save benchmarks to file. Download it manually\n",
        "BenchmarkTools.save(\"kernels.json\", suite)"
      ],
      "execution_count": 0,
      "outputs": []
    }
  ]
}